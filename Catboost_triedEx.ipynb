{
 "cells": [
  {
   "cell_type": "code",
   "execution_count": 0,
   "metadata": {
    "colab": {
     "base_uri": "https://localhost:8080/",
     "height": 559
    },
    "colab_type": "code",
    "executionInfo": {
     "elapsed": 9146,
     "status": "ok",
     "timestamp": 1567078139501,
     "user": {
      "displayName": "남윤상",
      "photoUrl": "",
      "userId": "03075001147961339929"
     },
     "user_tz": -540
    },
    "id": "NE5j5E6n24jH",
    "outputId": "fddccfbd-9e29-459b-862d-971bc238fde0"
   },
   "outputs": [
    {
     "name": "stdout",
     "output_type": "stream",
     "text": [
      "Collecting catboost\n",
      "\u001b[?25l  Downloading https://files.pythonhosted.org/packages/ef/e9/41060f73ca5dcf604f75bc871ee5ce8dcb201897640b37c95aa8b1e139c8/catboost-0.16.5-cp36-none-manylinux1_x86_64.whl (61.9MB)\n",
      "\u001b[K     |████████████████████████████████| 61.9MB 886kB/s \n",
      "\u001b[?25hRequirement already satisfied: pandas>=0.19.1 in /usr/local/lib/python3.6/dist-packages (from catboost) (0.24.2)\n",
      "Requirement already satisfied: six in /usr/local/lib/python3.6/dist-packages (from catboost) (1.12.0)\n",
      "Requirement already satisfied: plotly in /usr/local/lib/python3.6/dist-packages (from catboost) (3.6.1)\n",
      "Requirement already satisfied: numpy>=1.16.0 in /usr/local/lib/python3.6/dist-packages (from catboost) (1.16.4)\n",
      "Requirement already satisfied: matplotlib in /usr/local/lib/python3.6/dist-packages (from catboost) (3.0.3)\n",
      "Requirement already satisfied: graphviz in /usr/local/lib/python3.6/dist-packages (from catboost) (0.10.1)\n",
      "Requirement already satisfied: pytz>=2011k in /usr/local/lib/python3.6/dist-packages (from pandas>=0.19.1->catboost) (2018.9)\n",
      "Requirement already satisfied: python-dateutil>=2.5.0 in /usr/local/lib/python3.6/dist-packages (from pandas>=0.19.1->catboost) (2.5.3)\n",
      "Requirement already satisfied: retrying>=1.3.3 in /usr/local/lib/python3.6/dist-packages (from plotly->catboost) (1.3.3)\n",
      "Requirement already satisfied: nbformat>=4.2 in /usr/local/lib/python3.6/dist-packages (from plotly->catboost) (4.4.0)\n",
      "Requirement already satisfied: decorator>=4.0.6 in /usr/local/lib/python3.6/dist-packages (from plotly->catboost) (4.4.0)\n",
      "Requirement already satisfied: requests in /usr/local/lib/python3.6/dist-packages (from plotly->catboost) (2.21.0)\n",
      "Requirement already satisfied: pyparsing!=2.0.4,!=2.1.2,!=2.1.6,>=2.0.1 in /usr/local/lib/python3.6/dist-packages (from matplotlib->catboost) (2.4.2)\n",
      "Requirement already satisfied: kiwisolver>=1.0.1 in /usr/local/lib/python3.6/dist-packages (from matplotlib->catboost) (1.1.0)\n",
      "Requirement already satisfied: cycler>=0.10 in /usr/local/lib/python3.6/dist-packages (from matplotlib->catboost) (0.10.0)\n",
      "Requirement already satisfied: ipython-genutils in /usr/local/lib/python3.6/dist-packages (from nbformat>=4.2->plotly->catboost) (0.2.0)\n",
      "Requirement already satisfied: jupyter-core in /usr/local/lib/python3.6/dist-packages (from nbformat>=4.2->plotly->catboost) (4.5.0)\n",
      "Requirement already satisfied: traitlets>=4.1 in /usr/local/lib/python3.6/dist-packages (from nbformat>=4.2->plotly->catboost) (4.3.2)\n",
      "Requirement already satisfied: jsonschema!=2.5.0,>=2.4 in /usr/local/lib/python3.6/dist-packages (from nbformat>=4.2->plotly->catboost) (2.6.0)\n",
      "Requirement already satisfied: urllib3<1.25,>=1.21.1 in /usr/local/lib/python3.6/dist-packages (from requests->plotly->catboost) (1.24.3)\n",
      "Requirement already satisfied: idna<2.9,>=2.5 in /usr/local/lib/python3.6/dist-packages (from requests->plotly->catboost) (2.8)\n",
      "Requirement already satisfied: chardet<3.1.0,>=3.0.2 in /usr/local/lib/python3.6/dist-packages (from requests->plotly->catboost) (3.0.4)\n",
      "Requirement already satisfied: certifi>=2017.4.17 in /usr/local/lib/python3.6/dist-packages (from requests->plotly->catboost) (2019.6.16)\n",
      "Requirement already satisfied: setuptools in /usr/local/lib/python3.6/dist-packages (from kiwisolver>=1.0.1->matplotlib->catboost) (41.2.0)\n",
      "Installing collected packages: catboost\n",
      "Successfully installed catboost-0.16.5\n"
     ]
    }
   ],
   "source": [
    "!pip install catboost"
   ]
  },
  {
   "cell_type": "code",
   "execution_count": 0,
   "metadata": {
    "colab": {
     "base_uri": "https://localhost:8080/",
     "height": 35
    },
    "colab_type": "code",
    "executionInfo": {
     "elapsed": 10357,
     "status": "ok",
     "timestamp": 1567078143236,
     "user": {
      "displayName": "남윤상",
      "photoUrl": "",
      "userId": "03075001147961339929"
     },
     "user_tz": -540
    },
    "id": "9MAY_Y5p2vPE",
    "outputId": "afe91235-87ed-4524-efcb-72bc4d87f898"
   },
   "outputs": [
    {
     "name": "stdout",
     "output_type": "stream",
     "text": [
      "Drive already mounted at /gdrive; to attempt to forcibly remount, call drive.mount(\"/gdrive\", force_remount=True).\n"
     ]
    }
   ],
   "source": [
    "import numpy as np\n",
    "RANDOM_STATE = 2019\n",
    "np.random.seed(RANDOM_STATE) \n",
    "\n",
    "from google.colab import drive\n",
    "drive.mount('/gdrive')\n",
    "\n",
    "import pandas as pd\n",
    "import time\n",
    "import lightgbm as lgb\n",
    "\n",
    "import seaborn as sns\n",
    "from sklearn.metrics import r2_score, median_absolute_error, mean_absolute_error\n",
    "from sklearn.metrics import median_absolute_error, mean_squared_error, mean_squared_log_error\n",
    "from sklearn.model_selection import KFold\n",
    "from scipy import stats\n",
    "from plotly.offline import init_notebook_mode, iplot\n",
    "from plotly import graph_objs as go\n",
    "\n",
    "from catboost import CatBoostRegressor\n",
    "from numba import jit\n",
    "\n",
    "import gc\n",
    "import os\n",
    "\n",
    "def inverse_boxcox(y, lambda_):\n",
    "    return np.exp(y) if lambda_ == 0 else np.exp(np.log(lambda_ * y + 1) / lambda_)\n",
    "\n",
    "os.chdir(\"/gdrive/My Drive/Colab Notebooks/dacon\")\n"
   ]
  },
  {
   "cell_type": "code",
   "execution_count": 0,
   "metadata": {
    "colab": {},
    "colab_type": "code",
    "id": "J74Murz728St"
   },
   "outputs": [],
   "source": [
    "resampled = pd.read_csv('./data/resampled_0825.csv',parse_dates=['date'])\n",
    "resampled.drop('holiday',axis=1,inplace=True)\n",
    "resampled.shape\n",
    "\n",
    "naive_store_info = pd.read_csv('data/comp_9th/naive_store_info.csv')\n",
    "naive_store_info = naive_store_info[['store_id','type_bus','high_region']]\n",
    "resampled = resampled.merge(naive_store_info, on=['store_id'])\n"
   ]
  },
  {
   "cell_type": "code",
   "execution_count": 0,
   "metadata": {
    "colab": {},
    "colab_type": "code",
    "id": "fsM31l5-2-gM"
   },
   "outputs": [],
   "source": [
    "for_reprod = resampled.copy()"
   ]
  },
  {
   "cell_type": "code",
   "execution_count": 0,
   "metadata": {
    "colab": {},
    "colab_type": "code",
    "id": "claEjirL7Gpa"
   },
   "outputs": [],
   "source": [
    "resampled = for_reprod.copy()"
   ]
  },
  {
   "cell_type": "code",
   "execution_count": 0,
   "metadata": {
    "colab": {},
    "colab_type": "code",
    "id": "i83WNKJh2-oX"
   },
   "outputs": [],
   "source": [
    "resampled.drop(['cycle_idx_week1','cycle_idx_week4','cycle_idx_week8','hday_name','is_weekend','is_holiday','is_weekend','cur_zero'], axis=1,inplace = True)"
   ]
  },
  {
   "cell_type": "code",
   "execution_count": 0,
   "metadata": {
    "colab": {
     "base_uri": "https://localhost:8080/",
     "height": 35
    },
    "colab_type": "code",
    "executionInfo": {
     "elapsed": 51780,
     "status": "ok",
     "timestamp": 1567078206899,
     "user": {
      "displayName": "남윤상",
      "photoUrl": "",
      "userId": "03075001147961339929"
     },
     "user_tz": -540
    },
    "id": "IXF5srKl2-xq",
    "outputId": "51b3245c-09d6-4890-f021-6eb3b59c30ab"
   },
   "outputs": [
    {
     "data": {
      "text/plain": [
       "63"
      ]
     },
     "execution_count": 7,
     "metadata": {
      "tags": []
     },
     "output_type": "execute_result"
    }
   ],
   "source": [
    "# resampled = resampled[(resampled.Dayofweek == 3) | (resampled.Dayofweek == 0) ]\n",
    "\n",
    "temp = resampled[['date','store_id','Dayofweek','y']].copy()\n",
    "\n",
    "def modify_y(dow):\n",
    "    if dow == 3:\n",
    "        return 0\n",
    "    elif dow < 3:\n",
    "        i = 3 - dow\n",
    "        return i\n",
    "    else:\n",
    "        i = 10 - dow\n",
    "        return i\n",
    "temp['date_sum'] = temp['Dayofweek'].apply(modify_y)\n",
    "temp['date_sum'] = pd.to_timedelta(temp['date_sum'],unit='d')\n",
    "temp['date_thurs'] = temp['date'] + temp['date_sum']\n",
    "\n",
    "thurs_y = temp[temp.Dayofweek == 3 ][['date','store_id','y']]\n",
    "thurs_y.columns = ['date_thurs','store_id','new_y']\n",
    "\n",
    "temp = temp.merge(thurs_y, how = 'left' , on = ['date_thurs','store_id' ]) \n",
    "temp = temp[['date','store_id','new_y']]\n",
    "resampled = resampled.merge(temp,how = 'left', on= ['date','store_id'] )\n",
    "\n",
    "resampled.drop('y',axis=1,inplace=True)\n",
    "resampled = resampled.rename(columns={'new_y':'y'})\n",
    "del temp\n",
    "import gc\n",
    "gc.collect()"
   ]
  },
  {
   "cell_type": "code",
   "execution_count": 0,
   "metadata": {
    "colab": {},
    "colab_type": "code",
    "id": "JP82MxDW2_IY"
   },
   "outputs": [],
   "source": [
    "target = 'y'\n",
    "cat_vars = ['store_id',  'Month', 'Week', 'Day', 'Dayofweek','Dayofyear',\n",
    "            'weekofyear', 'type_bus', 'high_region']  #, 'cycle_idx_week4', 'cycle_idx_week8']\n",
    "\n",
    "cont_vars = [cols for cols in resampled.columns.values if cols not in cat_vars+[target,'date']]\n",
    "\n",
    "ratios = [i for i in cont_vars if \"ratio\" in i]\n",
    "non_ratios = [i for i in cont_vars if i not in ratios]\n",
    "\n",
    "\n"
   ]
  },
  {
   "cell_type": "code",
   "execution_count": 0,
   "metadata": {
    "colab": {
     "base_uri": "https://localhost:8080/",
     "height": 199
    },
    "colab_type": "code",
    "executionInfo": {
     "elapsed": 65827,
     "status": "ok",
     "timestamp": 1567078223598,
     "user": {
      "displayName": "남윤상",
      "photoUrl": "",
      "userId": "03075001147961339929"
     },
     "user_tz": -540
    },
    "id": "K70mr1uZ2_Sp",
    "outputId": "8b023045-ce37-4576-8332-23c3a6ffd00f"
   },
   "outputs": [
    {
     "name": "stderr",
     "output_type": "stream",
     "text": [
      "/usr/local/lib/python3.6/dist-packages/ipykernel_launcher.py:2: SettingWithCopyWarning:\n",
      "\n",
      "\n",
      "A value is trying to be set on a copy of a slice from a DataFrame\n",
      "\n",
      "See the caveats in the documentation: http://pandas.pydata.org/pandas-docs/stable/indexing.html#indexing-view-versus-copy\n",
      "\n"
     ]
    },
    {
     "name": "stdout",
     "output_type": "stream",
     "text": [
      "[]\n"
     ]
    },
    {
     "data": {
      "text/plain": [
       "21"
      ]
     },
     "execution_count": 9,
     "metadata": {
      "tags": []
     },
     "output_type": "execute_result"
    }
   ],
   "source": [
    "for v in non_ratios:\n",
    "    resampled[v][resampled[v] < 0] = 0\n",
    "resampled[ratios] = resampled[ratios].replace(np.inf, 1e+17)\n",
    "resampled[ratios] = resampled[ratios].replace(-np.inf, -1e+17)\n",
    "\n",
    "resampled[non_ratios] = resampled[non_ratios].fillna(value=-999)\n",
    "resampled[ratios] = resampled[ratios].fillna(value=-999)\n",
    "\n",
    "print(resampled[cont_vars].columns[resampled[cont_vars].isna().any()].tolist())\n",
    "\n",
    "#resampled = resampled.set_index('date')\n",
    "resampled[cat_vars] = resampled[cat_vars].fillna(value='-999')\n",
    "\n",
    "from sklearn.preprocessing import LabelEncoder\n",
    "encoders = {}\n",
    "\n",
    "for v in cat_vars:\n",
    "    le = LabelEncoder()\n",
    "    le.fit(resampled[v].values)\n",
    "    encoders[v] = le\n",
    "    resampled.loc[:, v] = le.transform(resampled[v].values)\n",
    "    # print('{0}: {1}'.format(v, le.classes_))\n",
    "gc.collect()\n"
   ]
  },
  {
   "cell_type": "code",
   "execution_count": 0,
   "metadata": {
    "colab": {},
    "colab_type": "code",
    "id": "vFZGRPO53vsE"
   },
   "outputs": [],
   "source": [
    "def train_4_submit(df,t,to_submit):\n",
    "    file_type = \"\"\n",
    "    if t == 1:\n",
    "        file_type = \"w0_\"\n",
    "    if t == 2:\n",
    "        file_type = \"existing_\"\n",
    "\n",
    "    resampled = df.copy()\n",
    "    del df\n",
    "    gc.collect()\n",
    "    cat_vars = ['store_id',  'Month', 'Week', 'Day', 'Dayofweek','Dayofyear',\n",
    "            'weekofyear', 'type_bus', 'high_region'] \n",
    "    cont_vars = [cols for cols in resampled.columns.values if cols not in cat_vars+['y','date']]\n",
    "\n",
    "    #resampled[cat_vars] = resampled[cat_vars].fillna(-999)\n",
    "    resampled[cat_vars] = resampled[cat_vars].astype('int')\n",
    "\n",
    "    #resampled[cont_vars] = resampled[cont_vars].fillna(-999)\n",
    "    resampled[cont_vars] = resampled[cont_vars].astype('float32')\n",
    "\n",
    "    if to_submit:\n",
    "        train_df = resampled[resampled.date <= pd.to_datetime('2018-11-29')]\n",
    "        train_df = train_df[train_df.y > 0]\n",
    "        test_df = resampled[(resampled.date <= pd.to_datetime('2019-02-28')) &\n",
    "                      (resampled.date >= pd.to_datetime('2019-02-22')) ]\n",
    "    else:\n",
    "        train_df = resampled[resampled.date <= pd.to_datetime('2018-11-28')]\n",
    "        train_df = train_df[train_df.y > 0]\n",
    "        test_df = resampled[resampled.date  == pd.to_datetime('2018-11-29') ]\n",
    "\n",
    "    X = train_df[cont_vars+cat_vars]\n",
    "    y = train_df['y']\n",
    "    target, lambda_prophet = stats.boxcox(train_df['y'] + 1)\n",
    "\n",
    "    X_test = test_df[cont_vars+cat_vars]\n",
    "    all_y = target \n",
    "\n",
    "    oof_preds = np.zeros([X.shape[0]])\n",
    "    sub_preds = np.zeros([X_test.shape[0]])\n",
    "\n",
    "    ITERATION = 5000\n",
    "    N_SPLIT = 3\n",
    "    feature_importance_df = pd.DataFrame()\n",
    "    model_dir = \"./submit_0821/cat_models/\" \n",
    "    folds = KFold(n_splits=N_SPLIT, shuffle=True, random_state=RANDOM_STATE)\n",
    "    params_cat = {\n",
    "        'learning_rate':0.10,\n",
    "        'iterations': ITERATION,\n",
    "        'max_ctr_complexity': 9,\n",
    "        'random_seed': RANDOM_STATE,\n",
    "        'od_type': 'Iter',\n",
    "        'od_wait': 100,\n",
    "        'verbose': 500,\n",
    "        'depth': 10,\n",
    "        'l2_leaf_reg': 8,\n",
    "        'thread_count': 4\n",
    "    }\n",
    "\n",
    "    for n_fold, (train_idx, valid_idx) in enumerate(folds.split(X, target)):\n",
    "        start_time = time.time()\n",
    "        train_x, train_y = X.iloc[train_idx], target[train_idx]\n",
    "        valid_x, valid_y = X.iloc[valid_idx], target[valid_idx]\n",
    "        \n",
    "        cat_model = CatBoostRegressor(eval_metric='MAE', **params_cat, task_type='GPU')\n",
    "        cat_model.fit(\n",
    "            train_x, \n",
    "            train_y, \n",
    "            eval_set=(valid_x, valid_y),\n",
    "            cat_features=[X.columns.get_loc(c) for c in cat_vars],\n",
    "            use_best_model=True\n",
    "        )\n",
    "        \n",
    "        oof_preds[valid_idx] = cat_model.predict(valid_x)\n",
    "        sub_preds[:] += cat_model.predict(X_test) / folds.n_splits\n",
    "        valid_idx += 1\n",
    "\n",
    "        # cat_model.save_model(model_dir+file_type+str(n_fold)+'_cat_model.json',\n",
    "        #                       format = \"json\")\n",
    "\n",
    "        importance_df = pd.DataFrame()\n",
    "        importance_df['feature'] = X.columns\n",
    "        importance_df['importance'] = cat_model.feature_importances_\n",
    "        importance_df['fold'] = n_fold + 1\n",
    "        \n",
    "        feature_importance_df = pd.concat([feature_importance_df, importance_df], axis=0)\n",
    "        print(\"--- %s seconds ---\" % (time.time() - start_time))\n",
    "\n",
    "        del cat_model\n",
    "        gc.collect()\n",
    "\n",
    "    sub_preds = inverse_boxcox(sub_preds , lambda_prophet) - 1\n",
    "    oof_preds = inverse_boxcox(oof_preds , lambda_prophet) - 1\n",
    "\n",
    "    e = 2 * abs(all_y - oof_preds) / ( abs(all_y)+abs(oof_preds) )\n",
    "    e = e.mean()\n",
    "    print('Full validation score Re-Box Cox Transformation is %.4f' %e)\n",
    "\n",
    "    gc.collect()\n",
    "    return sub_preds, feature_importance_df\n"
   ]
  },
  {
   "cell_type": "code",
   "execution_count": 0,
   "metadata": {
    "colab": {
     "base_uri": "https://localhost:8080/",
     "height": 35
    },
    "colab_type": "code",
    "executionInfo": {
     "elapsed": 63079,
     "status": "ok",
     "timestamp": 1567078223601,
     "user": {
      "displayName": "남윤상",
      "photoUrl": "",
      "userId": "03075001147961339929"
     },
     "user_tz": -540
    },
    "id": "A-g4cPFU2_6u",
    "outputId": "17d86daf-08f6-4719-d696-a83349ff1017"
   },
   "outputs": [
    {
     "data": {
      "text/plain": [
       "0"
      ]
     },
     "execution_count": 11,
     "metadata": {
      "tags": []
     },
     "output_type": "execute_result"
    }
   ],
   "source": [
    "import gc\n",
    "gc.collect()"
   ]
  },
  {
   "cell_type": "code",
   "execution_count": 0,
   "metadata": {
    "colab": {},
    "colab_type": "code",
    "id": "ICROkWsN7Tn0"
   },
   "outputs": [],
   "source": [
    "sub_pred1, f_i_df1 = train_4_submit(resampled,1,True)"
   ]
  },
  {
   "cell_type": "markdown",
   "metadata": {
    "colab": {},
    "colab_type": "code",
    "id": "MtaiklKuxe9Y"
   },
   "source": [
    "- ref:\n",
    "    - https://www.kaggle.com/slivka83/eda-futures-lightgbm-catboost#4.-Model"
   ]
  }
 ],
 "metadata": {
  "accelerator": "GPU",
  "colab": {
   "collapsed_sections": [],
   "machine_shape": "hm",
   "name": "CATBOOST_trial.ipynb",
   "provenance": [],
   "version": "0.3.2"
  },
  "kernelspec": {
   "display_name": "Python 3",
   "language": "python",
   "name": "python3"
  },
  "language_info": {
   "codemirror_mode": {
    "name": "ipython",
    "version": 3
   },
   "file_extension": ".py",
   "mimetype": "text/x-python",
   "name": "python",
   "nbconvert_exporter": "python",
   "pygments_lexer": "ipython3",
   "version": "3.7.1"
  }
 },
 "nbformat": 4,
 "nbformat_minor": 1
}
