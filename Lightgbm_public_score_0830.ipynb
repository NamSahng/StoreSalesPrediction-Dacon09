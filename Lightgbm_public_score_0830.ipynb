{
 "cells": [
  {
   "cell_type": "code",
   "execution_count": 0,
   "metadata": {
    "colab": {
     "base_uri": "https://localhost:8080/",
     "height": 55
    },
    "colab_type": "code",
    "executionInfo": {
     "elapsed": 1607,
     "status": "ok",
     "timestamp": 1567262809113,
     "user": {
      "displayName": "남윤상",
      "photoUrl": "",
      "userId": "02917917479382069695"
     },
     "user_tz": -540
    },
    "id": "uHP-nrQ9YTVU",
    "outputId": "9e8d19d2-1cc5-4b8e-a46d-db0badb8856e"
   },
   "outputs": [
    {
     "name": "stdout",
     "output_type": "stream",
     "text": [
      "Drive already mounted at /gdrive; to attempt to forcibly remount, call drive.mount(\"/gdrive\", force_remount=True).\n"
     ]
    }
   ],
   "source": [
    "import numpy as np\n",
    "RANDOM_STATE = 2019\n",
    "np.random.seed(RANDOM_STATE)\n",
    "\n",
    "from google.colab import drive\n",
    "drive.mount('/gdrive')\n",
    "\n",
    "import pandas as pd\n",
    "import time\n",
    "import lightgbm as lgb\n",
    "\n",
    "from sklearn.metrics import r2_score, median_absolute_error, mean_absolute_error\n",
    "from sklearn.metrics import median_absolute_error, mean_squared_error, mean_squared_log_error\n",
    "from sklearn.model_selection import KFold\n",
    "from scipy import stats\n",
    "\n",
    "import gc\n",
    "import os\n",
    "\n",
    "os.chdir(\"/gdrive/My Drive/Colab Notebooks/dacon\")\n",
    "\n",
    "def inverse_boxcox(y, lambda_):\n",
    "    return np.exp(y) if lambda_ == 0 else np.exp(np.log(lambda_ * y + 1) / lambda_)\n"
   ]
  },
  {
   "cell_type": "code",
   "execution_count": 0,
   "metadata": {
    "colab": {},
    "colab_type": "code",
    "id": "9YwRIzUoYd9y"
   },
   "outputs": [],
   "source": [
    "resampled = pd.read_csv('./data/resampled_0825.csv',parse_dates=['date'])\n",
    "resampled.drop('holiday',axis=1,inplace=True)\n",
    "resampled.shape\n",
    "\n",
    "naive_store_info = pd.read_csv('data/comp_9th/naive_store_info.csv')\n",
    "naive_store_info = naive_store_info[['store_id','type_bus','high_region']]\n",
    "resampled = resampled.merge(naive_store_info, on=['store_id'])"
   ]
  },
  {
   "cell_type": "code",
   "execution_count": 0,
   "metadata": {
    "colab": {},
    "colab_type": "code",
    "id": "Q1f7IpNn3tdu"
   },
   "outputs": [],
   "source": [
    "resampled = resampled[(resampled.Dayofweek == 3) | (resampled.Dayofweek == 0) | (resampled.Dayofweek == 4)]"
   ]
  },
  {
   "cell_type": "code",
   "execution_count": 0,
   "metadata": {
    "colab": {},
    "colab_type": "code",
    "id": "2FKk26iUk91r"
   },
   "outputs": [],
   "source": [
    "resampled.drop(['cycle_idx_week1','cycle_idx_week4','cycle_idx_week8','hday_name','is_weekend','is_holiday','is_weekend','cur_zero'], axis=1,inplace = True)"
   ]
  },
  {
   "cell_type": "code",
   "execution_count": 0,
   "metadata": {
    "colab": {
     "base_uri": "https://localhost:8080/",
     "height": 35
    },
    "colab_type": "code",
    "executionInfo": {
     "elapsed": 92079,
     "status": "ok",
     "timestamp": 1567262905013,
     "user": {
      "displayName": "남윤상",
      "photoUrl": "",
      "userId": "02917917479382069695"
     },
     "user_tz": -540
    },
    "id": "dp6SKuH_mnUY",
    "outputId": "f6de8a79-2552-4840-ec51-3688e4948bd8"
   },
   "outputs": [
    {
     "data": {
      "text/plain": [
       "85"
      ]
     },
     "execution_count": 5,
     "metadata": {
      "tags": []
     },
     "output_type": "execute_result"
    }
   ],
   "source": [
    "temp = resampled[['date','store_id','Dayofweek','y']].copy()\n",
    "\n",
    "def modify_y(dow):\n",
    "    if dow == 3:\n",
    "        return 0\n",
    "    elif dow < 3:\n",
    "        i = 3 - dow\n",
    "        return i\n",
    "    else:\n",
    "        i = 10 - dow\n",
    "        return i\n",
    "    \n",
    "temp['date_sum'] = temp['Dayofweek'].apply(modify_y)\n",
    "temp['date_sum'] = pd.to_timedelta(temp['date_sum'],unit='d')\n",
    "temp['date_thurs'] = temp['date'] + temp['date_sum']\n",
    "\n",
    "thurs_y = temp[temp.Dayofweek == 3 ][['date','store_id','y']]\n",
    "thurs_y.columns = ['date_thurs','store_id','new_y']\n",
    "\n",
    "temp = temp.merge(thurs_y, how = 'left' , on = ['date_thurs','store_id' ]) \n",
    "temp = temp[['date','store_id','new_y']]\n",
    "resampled = resampled.merge(temp,how = 'left', on= ['date','store_id'] )\n",
    "\n",
    "resampled.drop('y',axis=1,inplace=True)\n",
    "resampled = resampled.rename(columns={'new_y':'y'})\n",
    "del temp\n",
    "import gc\n",
    "gc.collect()"
   ]
  },
  {
   "cell_type": "code",
   "execution_count": 0,
   "metadata": {
    "colab": {},
    "colab_type": "code",
    "id": "73AUSPrM3HyA"
   },
   "outputs": [],
   "source": [
    "# need to write data and read it again for the same result for some reason\n",
    "\n",
    "resampled.to_csv('./resampled_check.csv',index=False)"
   ]
  },
  {
   "cell_type": "code",
   "execution_count": 0,
   "metadata": {
    "colab": {},
    "colab_type": "code",
    "id": "7txcj3sb3xWO"
   },
   "outputs": [],
   "source": [
    "resampled = pd.read_csv('./resampled_check.csv',parse_dates=['date'])"
   ]
  },
  {
   "cell_type": "code",
   "execution_count": 0,
   "metadata": {
    "colab": {},
    "colab_type": "code",
    "id": "G5LvdZDnYfEY"
   },
   "outputs": [],
   "source": [
    "resampled = resampled[(resampled.Dayofweek == 3)]"
   ]
  },
  {
   "cell_type": "code",
   "execution_count": 0,
   "metadata": {
    "colab": {
     "base_uri": "https://localhost:8080/",
     "height": 35
    },
    "colab_type": "code",
    "executionInfo": {
     "elapsed": 1319,
     "status": "ok",
     "timestamp": 1567263059452,
     "user": {
      "displayName": "남윤상",
      "photoUrl": "",
      "userId": "02917917479382069695"
     },
     "user_tz": -540
    },
    "id": "HeVBo2eCnUsB",
    "outputId": "6759d18d-4616-4aa6-eba6-7d3d4210320e"
   },
   "outputs": [
    {
     "data": {
      "text/plain": [
       "(264281, 114)"
      ]
     },
     "execution_count": 9,
     "metadata": {
      "tags": []
     },
     "output_type": "execute_result"
    }
   ],
   "source": [
    "resampled.shape"
   ]
  },
  {
   "cell_type": "code",
   "execution_count": 0,
   "metadata": {
    "colab": {},
    "colab_type": "code",
    "id": "PwqfKXJKYhZL"
   },
   "outputs": [],
   "source": [
    "target = 'y'\n",
    "cat_vars = ['store_id',  'Month', 'Week', 'Day', 'Dayofweek','Dayofyear',\n",
    "            'weekofyear', 'type_bus', 'high_region']  \n",
    "\n",
    "cont_vars = [cols for cols in resampled.columns.values if cols not in cat_vars+[target,'date']]\n",
    "\n",
    "ratios = [i for i in cont_vars if \"ratio\" in i]\n",
    "non_ratios = [i for i in cont_vars if i not in ratios]"
   ]
  },
  {
   "cell_type": "code",
   "execution_count": 0,
   "metadata": {
    "colab": {
     "base_uri": "https://localhost:8080/",
     "height": 52
    },
    "colab_type": "code",
    "executionInfo": {
     "elapsed": 11518,
     "status": "ok",
     "timestamp": 1567263069762,
     "user": {
      "displayName": "남윤상",
      "photoUrl": "",
      "userId": "02917917479382069695"
     },
     "user_tz": -540
    },
    "id": "AhfGSoKJYl_4",
    "outputId": "8ddd9558-1a9a-49b3-a23c-3ba1bbc62e84"
   },
   "outputs": [
    {
     "name": "stdout",
     "output_type": "stream",
     "text": [
      "[]\n"
     ]
    },
    {
     "data": {
      "text/plain": [
       "28"
      ]
     },
     "execution_count": 11,
     "metadata": {
      "tags": []
     },
     "output_type": "execute_result"
    }
   ],
   "source": [
    "for v in non_ratios:\n",
    "    resampled[v][resampled[v] < 0] = 0\n",
    "\n",
    "resampled[ratios] = resampled[ratios].replace(np.inf, 1e+17)\n",
    "resampled[ratios] = resampled[ratios].replace(-np.inf, -1e+17)\n",
    "resampled[non_ratios] = resampled[non_ratios].fillna(value=-1)\n",
    "resampled[ratios] = resampled[ratios].fillna(value=0)\n",
    "print(resampled[cont_vars].columns[resampled[cont_vars].isna().any()].tolist())\n",
    "\n",
    "#resampled = resampled.set_index('date')\n",
    "resampled[cat_vars] = resampled[cat_vars].fillna(value='NaN')\n",
    "\n",
    "from sklearn.preprocessing import LabelEncoder\n",
    "encoders = {}\n",
    "\n",
    "for v in cat_vars:\n",
    "    le = LabelEncoder()\n",
    "    le.fit(resampled[v].values)\n",
    "    encoders[v] = le\n",
    "    resampled.loc[:, v] = le.transform(resampled[v].values)\n",
    "    # print('{0}: {1}'.format(v, le.classes_))\n",
    "gc.collect()\n"
   ]
  },
  {
   "cell_type": "code",
   "execution_count": 0,
   "metadata": {
    "colab": {},
    "colab_type": "code",
    "id": "RvM_0klJYnxz"
   },
   "outputs": [],
   "source": [
    "real_train = resampled[resampled.date <= pd.to_datetime('2018-11-29')]\n",
    "real_train = real_train[real_train.y > 0]\n",
    "\n",
    "real_test = resampled[(resampled.date <= pd.to_datetime('2019-02-28')) &\n",
    "                      (resampled.date >= pd.to_datetime('2019-02-22')) ]"
   ]
  },
  {
   "cell_type": "code",
   "execution_count": 0,
   "metadata": {
    "colab": {},
    "colab_type": "code",
    "id": "26HVcGq7Yx_9"
   },
   "outputs": [],
   "source": [
    "\n",
    "original_target = real_train.y.values\n",
    "target, lambda_prophet = stats.boxcox(real_train['y'] + 1)\n",
    "len_train=target.shape[0]\n",
    "merged_df = pd.concat([real_train, real_test])\n",
    "merged_df.drop(['y','date'],axis=1,inplace=True)\n",
    "\n",
    "cate = ['store_id',  'Month', 'Week', 'Day', 'Dayofweek','Dayofyear',\n",
    "            'weekofyear', 'type_bus', 'high_region']  \n",
    "\n",
    "params = {\n",
    "      'num_threads': 4,\n",
    "      'max_depth': 10,  # 0\n",
    "      'task': 'train',\n",
    "      'num_leaves': 511  , \n",
    "      'learning_rate': 0.10,    \n",
    "      'feature_fraction':  0.9, \n",
    "      'lambda_l1': 0.06\t,       \n",
    "      'lambda_l2': 0.1,         \n",
    "      'bagging_fraction':0.8, \n",
    "      'bagging_freq': 30\t,      \n",
    "      'max_bin': 64,           \n",
    "      'metric':'mae',\n",
    "      'boosting_type': 'gbdt',\n",
    "      'objective': 'regression_l1',\n",
    "      'verbose': -1,\n",
    "      'seed': RANDOM_STATE\n",
    "      }\n",
    "\n",
    "test_x = merged_df[len_train:].values\n",
    "all_x = merged_df[:len_train].values\n",
    "all_y = target \n",
    "oof_preds = np.zeros([all_y.shape[0]])\n",
    "sub_preds = np.zeros([test_x.shape[0]])\n",
    "feature_importance_df = pd.DataFrame()\n",
    "\n",
    "num_folds = 3\n",
    "num_boost_round = 5000"
   ]
  },
  {
   "cell_type": "code",
   "execution_count": 0,
   "metadata": {
    "colab": {
     "base_uri": "https://localhost:8080/",
     "height": 870
    },
    "colab_type": "code",
    "executionInfo": {
     "elapsed": 2668140,
     "status": "ok",
     "timestamp": 1567265726575,
     "user": {
      "displayName": "남윤상",
      "photoUrl": "",
      "userId": "02917917479382069695"
     },
     "user_tz": -540
    },
    "id": "Y2nLQs8W3U1o",
    "outputId": "b84b91bf-81b4-4495-a683-31ee06260b6e"
   },
   "outputs": [
    {
     "name": "stderr",
     "output_type": "stream",
     "text": [
      "/usr/local/lib/python3.6/dist-packages/lightgbm/basic.py:1209: UserWarning: categorical_feature in Dataset is overridden.\n",
      "New categorical_feature is [0, 101, 102, 103, 104, 105, 106, 110, 111]\n",
      "  'New categorical_feature is {}'.format(sorted(list(categorical_feature))))\n",
      "/usr/local/lib/python3.6/dist-packages/lightgbm/basic.py:762: UserWarning: categorical_feature in param dict is overridden.\n",
      "  warnings.warn('categorical_feature in param dict is overridden.')\n"
     ]
    },
    {
     "name": "stdout",
     "output_type": "stream",
     "text": [
      "Training until validation scores don't improve for 100 rounds.\n",
      "[500]\ttraining's l1: 2.13424\tvalid_1's l1: 3.54446\n",
      "[1000]\ttraining's l1: 1.74644\tvalid_1's l1: 3.45918\n",
      "[1500]\ttraining's l1: 1.55997\tvalid_1's l1: 3.4175\n",
      "[2000]\ttraining's l1: 1.44201\tvalid_1's l1: 3.3936\n",
      "[2500]\ttraining's l1: 1.36586\tvalid_1's l1: 3.37889\n",
      "[3000]\ttraining's l1: 1.30645\tvalid_1's l1: 3.36762\n",
      "[3500]\ttraining's l1: 1.26136\tvalid_1's l1: 3.35938\n",
      "[4000]\ttraining's l1: 1.22463\tvalid_1's l1: 3.35302\n",
      "[4500]\ttraining's l1: 1.19397\tvalid_1's l1: 3.34668\n",
      "[5000]\ttraining's l1: 1.16902\tvalid_1's l1: 3.34277\n",
      "Did not meet early stopping. Best iteration is:\n",
      "[5000]\ttraining's l1: 1.16902\tvalid_1's l1: 3.34277\n",
      "--- 875.4380829334259 seconds ---\n",
      "Training until validation scores don't improve for 100 rounds.\n",
      "[500]\ttraining's l1: 2.12378\tvalid_1's l1: 3.53363\n",
      "[1000]\ttraining's l1: 1.73525\tvalid_1's l1: 3.44554\n",
      "[1500]\ttraining's l1: 1.55086\tvalid_1's l1: 3.40625\n",
      "[2000]\ttraining's l1: 1.43768\tvalid_1's l1: 3.38484\n",
      "[2500]\ttraining's l1: 1.35683\tvalid_1's l1: 3.36898\n",
      "[3000]\ttraining's l1: 1.2993\tvalid_1's l1: 3.3578\n",
      "[3500]\ttraining's l1: 1.25235\tvalid_1's l1: 3.34845\n",
      "[4000]\ttraining's l1: 1.21574\tvalid_1's l1: 3.34198\n",
      "[4500]\ttraining's l1: 1.18379\tvalid_1's l1: 3.33577\n",
      "[5000]\ttraining's l1: 1.15803\tvalid_1's l1: 3.33141\n",
      "Did not meet early stopping. Best iteration is:\n",
      "[5000]\ttraining's l1: 1.15803\tvalid_1's l1: 3.33141\n",
      "--- 890.2377498149872 seconds ---\n",
      "Training until validation scores don't improve for 100 rounds.\n",
      "[500]\ttraining's l1: 2.10903\tvalid_1's l1: 3.50743\n",
      "[1000]\ttraining's l1: 1.71732\tvalid_1's l1: 3.41822\n",
      "[1500]\ttraining's l1: 1.5329\tvalid_1's l1: 3.37939\n",
      "[2000]\ttraining's l1: 1.42629\tvalid_1's l1: 3.35927\n",
      "[2500]\ttraining's l1: 1.34971\tvalid_1's l1: 3.3453\n",
      "[3000]\ttraining's l1: 1.29134\tvalid_1's l1: 3.33272\n",
      "[3500]\ttraining's l1: 1.24498\tvalid_1's l1: 3.324\n",
      "[4000]\ttraining's l1: 1.2088\tvalid_1's l1: 3.31741\n",
      "[4500]\ttraining's l1: 1.1786\tvalid_1's l1: 3.31122\n",
      "[5000]\ttraining's l1: 1.15168\tvalid_1's l1: 3.30606\n",
      "Did not meet early stopping. Best iteration is:\n",
      "[5000]\ttraining's l1: 1.15168\tvalid_1's l1: 3.30606\n",
      "--- 892.1687138080597 seconds ---\n"
     ]
    },
    {
     "data": {
      "text/plain": [
       "0"
      ]
     },
     "execution_count": 14,
     "metadata": {
      "tags": []
     },
     "output_type": "execute_result"
    }
   ],
   "source": [
    "\n",
    "folds = KFold(n_splits=num_folds, shuffle=True, random_state=RANDOM_STATE)\n",
    "model_dir = \"./\"\n",
    "\n",
    "for n_fold, (train_idx, valid_idx) in enumerate(folds.split(all_x)):\n",
    "    start_time = time.time()\n",
    "    train_x, train_y = all_x[train_idx], all_y[train_idx]\n",
    "    valid_x, valid_y = all_x[valid_idx], all_y[valid_idx]\n",
    "    lgb_train = lgb.Dataset(train_x,train_y)\n",
    "    lgb_valid = lgb.Dataset(valid_x,valid_y)\n",
    "    # train\n",
    "    gbm = lgb.train(params, lgb_train, num_boost_round= num_boost_round, \n",
    "                    categorical_feature = [merged_df.columns.get_loc(c) for c in cate],\n",
    "                    valid_sets=[lgb_train, lgb_valid],\n",
    "                    early_stopping_rounds=100, verbose_eval=500)\n",
    "    \n",
    "    oof_preds[valid_idx] = gbm.predict(valid_x, num_iteration=gbm.best_iteration)\n",
    "    sub_preds[:] += gbm.predict(test_x, num_iteration=gbm.best_iteration) / folds.n_splits\n",
    "    valid_idx += 1\n",
    "\n",
    "    # if to_submit:\n",
    "    #     gbm.save_model(model_dir+file_type+str(n_fold)+'_model.txt',\n",
    "    #                   num_iteration=gbm.best_iteration)\n",
    "    \n",
    "    importance_df = pd.DataFrame()\n",
    "    importance_df['feature'] = merged_df.columns\n",
    "    importance_df['importance'] = gbm.feature_importance()\n",
    "    importance_df['fold'] = n_fold + 1\n",
    "    feature_importance_df = pd.concat([feature_importance_df, importance_df], axis=0)\n",
    "\n",
    "    print(\"--- %s seconds ---\" % (time.time() - start_time))\n",
    "    gc.collect()\n",
    "\n",
    "sub_preds = inverse_boxcox(sub_preds , lambda_prophet) - 1\n",
    "oof_preds = inverse_boxcox(oof_preds , lambda_prophet) - 1\n",
    "\n",
    "gc.collect()"
   ]
  },
  {
   "cell_type": "code",
   "execution_count": 0,
   "metadata": {
    "colab": {},
    "colab_type": "code",
    "id": "jyoTqi-n7QeP"
   },
   "outputs": [],
   "source": [
    "# Training until validation scores don't improve for 100 rounds.\n",
    "# [500]\ttraining's l1: 2.13424\tvalid_1's l1: 3.54446\n",
    "# [1000]\ttraining's l1: 1.74644\tvalid_1's l1: 3.45918\n",
    "# [1500]\ttraining's l1: 1.55997\tvalid_1's l1: 3.4175\n",
    "# [2000]\ttraining's l1: 1.44201\tvalid_1's l1: 3.3936\n",
    "# [2500]\ttraining's l1: 1.36586\tvalid_1's l1: 3.37889\n",
    "# [3000]\ttraining's l1: 1.30645\tvalid_1's l1: 3.36762\n",
    "# [3500]\ttraining's l1: 1.26136\tvalid_1's l1: 3.35938\n",
    "# [4000]\ttraining's l1: 1.22463\tvalid_1's l1: 3.35302\n",
    "# [4500]\ttraining's l1: 1.19397\tvalid_1's l1: 3.34668\n",
    "# [5000]\ttraining's l1: 1.16902\tvalid_1's l1: 3.34277\n",
    "# Did not meet early stopping. Best iteration is:\n",
    "# [5000]\ttraining's l1: 1.16902\tvalid_1's l1: 3.34277\n",
    "# --- 1074.3606488704681 seconds ---\n",
    "# Training until validation scores don't improve for 100 rounds.\n",
    "# [500]\ttraining's l1: 2.12378\tvalid_1's l1: 3.53363\n",
    "# [1000]\ttraining's l1: 1.73525\tvalid_1's l1: 3.44554\n",
    "# [1500]\ttraining's l1: 1.55086\tvalid_1's l1: 3.40625\n",
    "# [2000]\ttraining's l1: 1.43768\tvalid_1's l1: 3.38484\n",
    "# [2500]\ttraining's l1: 1.35683\tvalid_1's l1: 3.36898\n",
    "# [3000]\ttraining's l1: 1.2993\tvalid_1's l1: 3.3578\n",
    "# [3500]\ttraining's l1: 1.25235\tvalid_1's l1: 3.34845\n",
    "# [4000]\ttraining's l1: 1.21574\tvalid_1's l1: 3.34198\n",
    "# [4500]\ttraining's l1: 1.18379\tvalid_1's l1: 3.33577\n",
    "# [5000]\ttraining's l1: 1.15803\tvalid_1's l1: 3.33141\n",
    "# Did not meet early stopping. Best iteration is:\n",
    "# [5000]\ttraining's l1: 1.15803\tvalid_1's l1: 3.33141\n",
    "# --- 1027.4489116668701 seconds ---\n",
    "# Training until validation scores don't improve for 100 rounds.\n",
    "# [500]\ttraining's l1: 2.10903\tvalid_1's l1: 3.50743\n",
    "# [1000]\ttraining's l1: 1.71732\tvalid_1's l1: 3.41822\n",
    "# [1500]\ttraining's l1: 1.5329\tvalid_1's l1: 3.37939\n",
    "# [2000]\ttraining's l1: 1.42629\tvalid_1's l1: 3.35927\n",
    "# [2500]\ttraining's l1: 1.34971\tvalid_1's l1: 3.3453\n",
    "# [3000]\ttraining's l1: 1.29134\tvalid_1's l1: 3.33272\n",
    "# [3500]\ttraining's l1: 1.24498\tvalid_1's l1: 3.324\n",
    "# [4000]\ttraining's l1: 1.2088\tvalid_1's l1: 3.31741\n",
    "# [4500]\ttraining's l1: 1.1786\tvalid_1's l1: 3.31122\n",
    "# [5000]\ttraining's l1: 1.15168\tvalid_1's l1: 3.30606\n",
    "# Did not meet early stopping. Best iteration is:\n",
    "# [5000]\ttraining's l1: 1.15168\tvalid_1's l1: 3.30606"
   ]
  },
  {
   "cell_type": "code",
   "execution_count": 0,
   "metadata": {
    "colab": {},
    "colab_type": "code",
    "id": "kPXSmwt3ZIvw"
   },
   "outputs": [],
   "source": [
    "store_id_inversed = encoders['store_id'].inverse_transform(real_test.store_id.values)\n",
    "\n",
    "predicted = pd.DataFrame(\n",
    "    {'store_id': store_id_inversed,\n",
    "     'amount': sub_preds\n",
    "    }\n",
    ")\n",
    "\n"
   ]
  },
  {
   "cell_type": "code",
   "execution_count": 0,
   "metadata": {
    "colab": {
     "base_uri": "https://localhost:8080/",
     "height": 194
    },
    "colab_type": "code",
    "executionInfo": {
     "elapsed": 527,
     "status": "ok",
     "timestamp": 1567265829051,
     "user": {
      "displayName": "남윤상",
      "photoUrl": "",
      "userId": "02917917479382069695"
     },
     "user_tz": -540
    },
    "id": "DJb2bdBSUqCE",
    "outputId": "fcd9fa13-c4a3-4039-cbc9-f61403296588"
   },
   "outputs": [
    {
     "data": {
      "text/html": [
       "<div>\n",
       "<style scoped>\n",
       "    .dataframe tbody tr th:only-of-type {\n",
       "        vertical-align: middle;\n",
       "    }\n",
       "\n",
       "    .dataframe tbody tr th {\n",
       "        vertical-align: top;\n",
       "    }\n",
       "\n",
       "    .dataframe thead th {\n",
       "        text-align: right;\n",
       "    }\n",
       "</style>\n",
       "<table border=\"1\" class=\"dataframe\">\n",
       "  <thead>\n",
       "    <tr style=\"text-align: right;\">\n",
       "      <th></th>\n",
       "      <th>store_id</th>\n",
       "      <th>amount</th>\n",
       "    </tr>\n",
       "  </thead>\n",
       "  <tbody>\n",
       "    <tr>\n",
       "      <th>0</th>\n",
       "      <td>0</td>\n",
       "      <td>2.124990e+06</td>\n",
       "    </tr>\n",
       "    <tr>\n",
       "      <th>1</th>\n",
       "      <td>1</td>\n",
       "      <td>2.979171e+05</td>\n",
       "    </tr>\n",
       "    <tr>\n",
       "      <th>2</th>\n",
       "      <td>2</td>\n",
       "      <td>1.056749e+06</td>\n",
       "    </tr>\n",
       "    <tr>\n",
       "      <th>3</th>\n",
       "      <td>4</td>\n",
       "      <td>2.833896e+06</td>\n",
       "    </tr>\n",
       "    <tr>\n",
       "      <th>4</th>\n",
       "      <td>5</td>\n",
       "      <td>8.921625e+05</td>\n",
       "    </tr>\n",
       "  </tbody>\n",
       "</table>\n",
       "</div>"
      ],
      "text/plain": [
       "   store_id        amount\n",
       "0         0  2.124990e+06\n",
       "1         1  2.979171e+05\n",
       "2         2  1.056749e+06\n",
       "3         4  2.833896e+06\n",
       "4         5  8.921625e+05"
      ]
     },
     "execution_count": 16,
     "metadata": {
      "tags": []
     },
     "output_type": "execute_result"
    }
   ],
   "source": [
    "predicted.head()"
   ]
  },
  {
   "cell_type": "code",
   "execution_count": 0,
   "metadata": {
    "colab": {
     "base_uri": "https://localhost:8080/",
     "height": 956
    },
    "colab_type": "code",
    "executionInfo": {
     "elapsed": 524,
     "status": "ok",
     "timestamp": 1567266323281,
     "user": {
      "displayName": "남윤상",
      "photoUrl": "",
      "userId": "02917917479382069695"
     },
     "user_tz": -540
    },
    "id": "H9RgJZS9WWhI",
    "outputId": "7c81ff39-c39d-4b01-cc7b-5d7b36f9dadd"
   },
   "outputs": [
    {
     "data": {
      "text/html": [
       "<div>\n",
       "<style scoped>\n",
       "    .dataframe tbody tr th:only-of-type {\n",
       "        vertical-align: middle;\n",
       "    }\n",
       "\n",
       "    .dataframe tbody tr th {\n",
       "        vertical-align: top;\n",
       "    }\n",
       "\n",
       "    .dataframe thead th {\n",
       "        text-align: right;\n",
       "    }\n",
       "</style>\n",
       "<table border=\"1\" class=\"dataframe\">\n",
       "  <thead>\n",
       "    <tr style=\"text-align: right;\">\n",
       "      <th></th>\n",
       "      <th>importance</th>\n",
       "      <th>fold</th>\n",
       "    </tr>\n",
       "    <tr>\n",
       "      <th>feature</th>\n",
       "      <th></th>\n",
       "      <th></th>\n",
       "    </tr>\n",
       "  </thead>\n",
       "  <tbody>\n",
       "    <tr>\n",
       "      <th>Dayofyear</th>\n",
       "      <td>296606</td>\n",
       "      <td>6</td>\n",
       "    </tr>\n",
       "    <tr>\n",
       "      <th>store_id</th>\n",
       "      <td>292734</td>\n",
       "      <td>6</td>\n",
       "    </tr>\n",
       "    <tr>\n",
       "      <th>amount_01_ratio</th>\n",
       "      <td>98567</td>\n",
       "      <td>6</td>\n",
       "    </tr>\n",
       "    <tr>\n",
       "      <th>amount_12_ratio</th>\n",
       "      <td>96740</td>\n",
       "      <td>6</td>\n",
       "    </tr>\n",
       "    <tr>\n",
       "      <th>amount_45_ratio</th>\n",
       "      <td>92418</td>\n",
       "      <td>6</td>\n",
       "    </tr>\n",
       "    <tr>\n",
       "      <th>amount_34_ratio</th>\n",
       "      <td>90805</td>\n",
       "      <td>6</td>\n",
       "    </tr>\n",
       "    <tr>\n",
       "      <th>amount_23_ratio</th>\n",
       "      <td>90282</td>\n",
       "      <td>6</td>\n",
       "    </tr>\n",
       "    <tr>\n",
       "      <th>amount_67_ratio</th>\n",
       "      <td>89257</td>\n",
       "      <td>6</td>\n",
       "    </tr>\n",
       "    <tr>\n",
       "      <th>amount_1213_ratio</th>\n",
       "      <td>88291</td>\n",
       "      <td>6</td>\n",
       "    </tr>\n",
       "    <tr>\n",
       "      <th>amount_910_ratio</th>\n",
       "      <td>87192</td>\n",
       "      <td>6</td>\n",
       "    </tr>\n",
       "    <tr>\n",
       "      <th>amount_1011_ratio</th>\n",
       "      <td>86945</td>\n",
       "      <td>6</td>\n",
       "    </tr>\n",
       "    <tr>\n",
       "      <th>amount_78_ratio</th>\n",
       "      <td>85935</td>\n",
       "      <td>6</td>\n",
       "    </tr>\n",
       "    <tr>\n",
       "      <th>amount_1112_ratio</th>\n",
       "      <td>85311</td>\n",
       "      <td>6</td>\n",
       "    </tr>\n",
       "    <tr>\n",
       "      <th>amount_56_ratio</th>\n",
       "      <td>84614</td>\n",
       "      <td>6</td>\n",
       "    </tr>\n",
       "    <tr>\n",
       "      <th>amount_89_ratio</th>\n",
       "      <td>83143</td>\n",
       "      <td>6</td>\n",
       "    </tr>\n",
       "    <tr>\n",
       "      <th>amount</th>\n",
       "      <td>82242</td>\n",
       "      <td>6</td>\n",
       "    </tr>\n",
       "    <tr>\n",
       "      <th>amount_48_ratio</th>\n",
       "      <td>82179</td>\n",
       "      <td>6</td>\n",
       "    </tr>\n",
       "    <tr>\n",
       "      <th>amount_36_ratio</th>\n",
       "      <td>80213</td>\n",
       "      <td>6</td>\n",
       "    </tr>\n",
       "    <tr>\n",
       "      <th>amount_912_ratio</th>\n",
       "      <td>77461</td>\n",
       "      <td>6</td>\n",
       "    </tr>\n",
       "    <tr>\n",
       "      <th>amount_812_ratio</th>\n",
       "      <td>75344</td>\n",
       "      <td>6</td>\n",
       "    </tr>\n",
       "    <tr>\n",
       "      <th>amount_69_ratio</th>\n",
       "      <td>74537</td>\n",
       "      <td>6</td>\n",
       "    </tr>\n",
       "    <tr>\n",
       "      <th>amount_714_ratio</th>\n",
       "      <td>72807</td>\n",
       "      <td>6</td>\n",
       "    </tr>\n",
       "    <tr>\n",
       "      <th>amount_612_ratio</th>\n",
       "      <td>67936</td>\n",
       "      <td>6</td>\n",
       "    </tr>\n",
       "    <tr>\n",
       "      <th>Week</th>\n",
       "      <td>66328</td>\n",
       "      <td>6</td>\n",
       "    </tr>\n",
       "    <tr>\n",
       "      <th>amount_0_week</th>\n",
       "      <td>52936</td>\n",
       "      <td>6</td>\n",
       "    </tr>\n",
       "    <tr>\n",
       "      <th>amount_13_week</th>\n",
       "      <td>50889</td>\n",
       "      <td>6</td>\n",
       "    </tr>\n",
       "    <tr>\n",
       "      <th>amount_2_week</th>\n",
       "      <td>49890</td>\n",
       "      <td>6</td>\n",
       "    </tr>\n",
       "    <tr>\n",
       "      <th>amount_3_week</th>\n",
       "      <td>48102</td>\n",
       "      <td>6</td>\n",
       "    </tr>\n",
       "    <tr>\n",
       "      <th>amount_1_week</th>\n",
       "      <td>47827</td>\n",
       "      <td>6</td>\n",
       "    </tr>\n",
       "    <tr>\n",
       "      <th>amount_12_week</th>\n",
       "      <td>46688</td>\n",
       "      <td>6</td>\n",
       "    </tr>\n",
       "  </tbody>\n",
       "</table>\n",
       "</div>"
      ],
      "text/plain": [
       "                   importance  fold\n",
       "feature                            \n",
       "Dayofyear              296606     6\n",
       "store_id               292734     6\n",
       "amount_01_ratio         98567     6\n",
       "amount_12_ratio         96740     6\n",
       "amount_45_ratio         92418     6\n",
       "amount_34_ratio         90805     6\n",
       "amount_23_ratio         90282     6\n",
       "amount_67_ratio         89257     6\n",
       "amount_1213_ratio       88291     6\n",
       "amount_910_ratio        87192     6\n",
       "amount_1011_ratio       86945     6\n",
       "amount_78_ratio         85935     6\n",
       "amount_1112_ratio       85311     6\n",
       "amount_56_ratio         84614     6\n",
       "amount_89_ratio         83143     6\n",
       "amount                  82242     6\n",
       "amount_48_ratio         82179     6\n",
       "amount_36_ratio         80213     6\n",
       "amount_912_ratio        77461     6\n",
       "amount_812_ratio        75344     6\n",
       "amount_69_ratio         74537     6\n",
       "amount_714_ratio        72807     6\n",
       "amount_612_ratio        67936     6\n",
       "Week                    66328     6\n",
       "amount_0_week           52936     6\n",
       "amount_13_week          50889     6\n",
       "amount_2_week           49890     6\n",
       "amount_3_week           48102     6\n",
       "amount_1_week           47827     6\n",
       "amount_12_week          46688     6"
      ]
     },
     "execution_count": 21,
     "metadata": {
      "tags": []
     },
     "output_type": "execute_result"
    }
   ],
   "source": [
    "feature_importance_df.groupby('feature').sum().sort_values('importance',ascending = False).head(30)"
   ]
  },
  {
   "cell_type": "code",
   "execution_count": 0,
   "metadata": {
    "colab": {},
    "colab_type": "code",
    "id": "4jpE80FiWyjt"
   },
   "outputs": [],
   "source": [
    "feature_importance_df.to_csv('sub_0830_FeatureImportance.csv',index=False)"
   ]
  },
  {
   "cell_type": "code",
   "execution_count": 0,
   "metadata": {
    "colab": {},
    "colab_type": "code",
    "id": "yRCplOLy6Ohb"
   },
   "outputs": [],
   "source": [
    "predicted.to_csv('./sub_0830_check.csv',index=False)"
   ]
  },
  {
   "cell_type": "markdown",
   "metadata": {},
   "source": [
    "- ref: \n",
    "    - https://machinelearningmastery.com/multi-step-time-series-forecasting/\n",
    "    - https://www.kaggle.com/adityaecdrid/my-first-time-series-comp-added-prophet\n",
    "    - https://lightgbm.readthedocs.io/en/latest/Parameters-Tuning.html\n",
    "    - https://www.kaggle.com/slivka83/eda-futures-lightgbm-catboost#4.-Model\n"
   ]
  }
 ],
 "metadata": {
  "accelerator": "TPU",
  "colab": {
   "collapsed_sections": [],
   "name": "0830_BEST_public_score.ipynb",
   "provenance": [],
   "version": "0.3.2"
  },
  "kernelspec": {
   "display_name": "Python 3",
   "language": "python",
   "name": "python3"
  },
  "language_info": {
   "codemirror_mode": {
    "name": "ipython",
    "version": 3
   },
   "file_extension": ".py",
   "mimetype": "text/x-python",
   "name": "python",
   "nbconvert_exporter": "python",
   "pygments_lexer": "ipython3",
   "version": "3.7.1"
  }
 },
 "nbformat": 4,
 "nbformat_minor": 1
}
